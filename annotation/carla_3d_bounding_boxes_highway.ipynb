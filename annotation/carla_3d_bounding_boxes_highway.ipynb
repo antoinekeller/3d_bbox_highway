{
 "cells": [
  {
   "cell_type": "code",
   "execution_count": 1,
   "id": "af3000ba",
   "metadata": {},
   "outputs": [],
   "source": [
    "import pandas as pd\n",
    "import carla\n",
    "import math\n",
    "import random\n",
    "import time\n",
    "import queue\n",
    "import numpy as np\n",
    "import cv2\n",
    "\n",
    "client = carla.Client('localhost', 2000)\n",
    "client.set_timeout(200.0)\n",
    "world  = client.get_world()\n",
    "world = client.load_world('Town05_Opt')\n",
    "bp_lib = world.get_blueprint_library()\n",
    "spawn_points = world.get_map().get_spawn_points()\n",
    "\n",
    "# spawn camera\n",
    "camera_bp = bp_lib.find('sensor.camera.rgb')\n",
    "camera_bp.set_attribute('image_size_x', \"1280\")\n",
    "camera_bp.set_attribute('image_size_y', \"720\")\n",
    "camera_bp.set_attribute('fov', \"79.45\")\n",
    "camera_pose = carla.Transform(carla.Location(x=199.5, y=-90, z=8.5), carla.Rotation(pitch=-27.4, yaw=90, roll=0))\n",
    "camera = world.spawn_actor(camera_bp, camera_pose)\n",
    "\n",
    "# Set up the simulator in synchronous mode\n",
    "settings = world.get_settings()\n",
    "settings.synchronous_mode = True # Enables synchronous mode\n",
    "settings.fixed_delta_seconds = 0.05\n",
    "world.apply_settings(settings)\n",
    "\n",
    "# Get the map spawn points\n",
    "spawn_points = world.get_map().get_spawn_points()\n",
    "\n",
    "# Create a queue to store and retrieve the sensor data\n",
    "image_queue = queue.Queue()\n",
    "camera.listen(image_queue.put)"
   ]
  },
  {
   "cell_type": "code",
   "execution_count": 2,
   "id": "418ede78",
   "metadata": {},
   "outputs": [],
   "source": [
    "tm = client.get_trafficmanager(8000)"
   ]
  },
  {
   "cell_type": "code",
   "execution_count": 3,
   "id": "a7c07a0c",
   "metadata": {},
   "outputs": [],
   "source": [
    "def build_projection_matrix(w, h, fov):\n",
    "    focal = w / (2.0 * np.tan(fov * np.pi / 360.0))\n",
    "    K = np.identity(3)\n",
    "    K[0, 0] = K[1, 1] = focal\n",
    "    K[0, 2] = w / 2.0\n",
    "    K[1, 2] = h / 2.0\n",
    "    return K"
   ]
  },
  {
   "cell_type": "code",
   "execution_count": 4,
   "id": "155178e4",
   "metadata": {},
   "outputs": [],
   "source": [
    "def project(loc, K, w2c):\n",
    "        # Calculate 2D projection of 3D coordinate\n",
    "\n",
    "        # Format the input coordinate (loc is a carla.Position object)\n",
    "        point = np.array([loc.x, loc.y, loc.z, 1])\n",
    "        # transform to camera coordinates\n",
    "        point_camera = np.dot(w2c, point)\n",
    "\n",
    "        # New we must change from UE4's coordinate system to an \"standard\"\n",
    "        # (x, y ,z) -> (y, -z, x)\n",
    "        # and we remove the fourth componebonent also\n",
    "        point_camera = [point_camera[1], -point_camera[2], point_camera[0]]\n",
    "        \n",
    "        point_camera /= point_camera[2]\n",
    "\n",
    "        # now project 3D->2D using the camera matrix\n",
    "        point_img = np.dot(K, point_camera)\n",
    "\n",
    "        return point_img[0:2]"
   ]
  },
  {
   "cell_type": "code",
   "execution_count": 5,
   "id": "7bc56ff0",
   "metadata": {},
   "outputs": [
    {
     "name": "stdout",
     "output_type": "stream",
     "text": [
      "[[-3.88076451e-08  8.87815416e-01 -4.60199773e-01  8.38150940e+01]\n",
      " [-1.00000000e+00 -4.37113883e-08 -0.00000000e+00  1.99500000e+02]\n",
      " [-2.01159711e-08  4.60199773e-01  8.87815416e-01  3.38715515e+01]\n",
      " [ 0.00000000e+00  0.00000000e+00  0.00000000e+00  1.00000000e+00]]\n"
     ]
    },
    {
     "data": {
      "text/plain": [
       "array([[770.19972518,   0.        , 640.        ],\n",
       "       [  0.        , 770.19972518, 360.        ],\n",
       "       [  0.        ,   0.        ,   1.        ]])"
      ]
     },
     "execution_count": 5,
     "metadata": {},
     "output_type": "execute_result"
    }
   ],
   "source": [
    "# Use camera intrinsic/extrinsic to have the exact same configuration than the real one\n",
    "\n",
    "# Get the world to camera matrix\n",
    "world_2_camera = np.array(camera_pose.get_inverse_matrix())\n",
    "print(world_2_camera)\n",
    "\n",
    "# Get the attributes from the camera\n",
    "image_w = camera_bp.get_attribute(\"image_size_x\").as_int()\n",
    "image_h = camera_bp.get_attribute(\"image_size_y\").as_int()\n",
    "fov = camera_bp.get_attribute(\"fov\").as_float()\n",
    "\n",
    "# Calculate the camera projection matrix to project from 3D -> 2D\n",
    "K = build_projection_matrix(image_w, image_h, fov)\n",
    "\n",
    "K"
   ]
  },
  {
   "cell_type": "code",
   "execution_count": 6,
   "id": "a29411e9",
   "metadata": {},
   "outputs": [],
   "source": [
    "# Set up the set of bounding boxes from the level\n",
    "# We filter for traffic lights and traffic signs\n",
    "bounding_box_set = world.get_level_bbs(carla.CityObjectLabel.TrafficLight)\n",
    "bounding_box_set.extend(world.get_level_bbs(carla.CityObjectLabel.TrafficSigns))\n",
    "\n",
    "# Remember the edge pairs\n",
    "edges = [[0,1], [1,3], [3,2], [2,0], [0,4], [4,5], [5,1], [5,7], [7,6], [6,4], [6,2], [7,3]]\n"
   ]
  },
  {
   "cell_type": "code",
   "execution_count": 7,
   "id": "68197ccb",
   "metadata": {},
   "outputs": [],
   "source": [
    "# Unfortunately, there is a bug with current Carla version, and some vehicles, especially motorbikes,\n",
    "# do not have correct bbox dimensions\n",
    "my_vehicles = []\n",
    "uncorrect_objects = ['vehicle.bh.crossbike', 'vehicle.diamondback.century', 'vehicle.harley-davidson.low_rider',\n",
    "                     'vehicle.gazelle.omafiets', 'vehicle.kawasaki.ninja', 'vehicle.yamaha.yzf', 'vehicle.vespa.zx125']\n",
    "\n",
    "for vehicle_bp in [bp for bp in bp_lib.filter('vehicle')]:\n",
    "    if vehicle_bp.id not in uncorrect_objects:\n",
    "        my_vehicles.append(vehicle_bp)"
   ]
  },
  {
   "cell_type": "code",
   "execution_count": 8,
   "id": "28fcabbe",
   "metadata": {},
   "outputs": [],
   "source": [
    "for spawn_point in spawn_points:\n",
    "    vehicle_bp = random.choice(my_vehicles)\n",
    "    npc = world.try_spawn_actor(vehicle_bp, spawn_point)\n",
    "      \n",
    "    if npc:\n",
    "        npc.set_autopilot(True)\n",
    "        tm.auto_lane_change(npc,False)\n",
    "    else:\n",
    "        print(\"Could not spwan actor\")"
   ]
  },
  {
   "cell_type": "code",
   "execution_count": 9,
   "id": "f08e0134",
   "metadata": {},
   "outputs": [
    {
     "ename": "KeyboardInterrupt",
     "evalue": "",
     "output_type": "error",
     "traceback": [
      "\u001b[0;31m---------------------------------------------------------------------------\u001b[0m",
      "\u001b[0;31mKeyboardInterrupt\u001b[0m                         Traceback (most recent call last)",
      "Cell \u001b[0;32mIn[9], line 5\u001b[0m\n\u001b[1;32m      1\u001b[0m idx \u001b[38;5;241m=\u001b[39m \u001b[38;5;241m1001\u001b[39m\n\u001b[1;32m      3\u001b[0m \u001b[38;5;28;01mwhile\u001b[39;00m \u001b[38;5;28;01mTrue\u001b[39;00m:\n\u001b[1;32m      4\u001b[0m     \u001b[38;5;66;03m# Retrieve and reshape the image\u001b[39;00m\n\u001b[0;32m----> 5\u001b[0m     \u001b[43mworld\u001b[49m\u001b[38;5;241;43m.\u001b[39;49m\u001b[43mtick\u001b[49m\u001b[43m(\u001b[49m\u001b[43m)\u001b[49m\n\u001b[1;32m      6\u001b[0m     image \u001b[38;5;241m=\u001b[39m image_queue\u001b[38;5;241m.\u001b[39mget()\n\u001b[1;32m      8\u001b[0m     img \u001b[38;5;241m=\u001b[39m np\u001b[38;5;241m.\u001b[39mreshape(np\u001b[38;5;241m.\u001b[39mcopy(image\u001b[38;5;241m.\u001b[39mraw_data), (image\u001b[38;5;241m.\u001b[39mheight, image\u001b[38;5;241m.\u001b[39mwidth, \u001b[38;5;241m4\u001b[39m))\n",
      "\u001b[0;31mKeyboardInterrupt\u001b[0m: "
     ]
    }
   ],
   "source": [
    "idx = 1\n",
    "\n",
    "while True:\n",
    "    # Retrieve and reshape the image\n",
    "    world.tick()\n",
    "    image = image_queue.get()\n",
    "\n",
    "    img = np.reshape(np.copy(image.raw_data), (image.height, image.width, 4))\n",
    "\n",
    "    # Get the camera matrix \n",
    "    world_2_camera = np.array(camera_pose.get_inverse_matrix())\n",
    "    \n",
    "    labels = []\n",
    "    \n",
    "    for npc in world.get_actors().filter('*vehicle*'):\n",
    "\n",
    "        bb = npc.bounding_box\n",
    "        dist = npc.get_transform().location.distance(camera_pose.location)\n",
    "        \n",
    "        # Get rid of box not directly on this highway\n",
    "        x_pos_world = npc.get_transform().location.x\n",
    "        if not 200 - 20 < x_pos_world < 200+20:\n",
    "            continue\n",
    "\n",
    "        # Filter for the vehicles within 50m\n",
    "        if dist > 100:\n",
    "            continue\n",
    "\n",
    "        # Calculate the dot product between the forward vector\n",
    "        # of the vehicle and the vector between the vehicle\n",
    "        # and the other vehicle. We threshold this dot product\n",
    "        # to limit to drawing bounding boxes IN FRONT OF THE CAMERA\n",
    "        forward_vec = camera_pose.get_forward_vector()\n",
    "        ray = npc.get_transform().location - camera_pose.location\n",
    "\n",
    "        if forward_vec.dot(ray) < 1:\n",
    "            continue\n",
    "\n",
    "        p1 = project(npc.get_transform().location, K, world_2_camera)\n",
    "        #print(npc)\n",
    "\n",
    "        # make sure we are not out of bounds\n",
    "        if not (0 <= p1[0] < 1280 and 0 <= p1[1] < 720):\n",
    "            continue\n",
    "\n",
    "        verts = [v for v in bb.get_world_vertices(npc.get_transform())]\n",
    "        for edge in edges:\n",
    "            p1 = project(verts[edge[0]], K, world_2_camera)\n",
    "            p2 = project(verts[edge[1]],  K, world_2_camera)\n",
    "\n",
    "            #cv2.line(img, (int(p1[0]),int(p1[1])), (int(p2[0]),int(p2[1])), (255,0,0, 255), 1)\n",
    "\n",
    "\n",
    "        middle = carla.Location(x=(verts[0].x+verts[6].x)/2, y = (verts[0].y+verts[6].y)/2, z=(verts[0].z+verts[6].z)/2)\n",
    "        point_on_floor = project(middle,  K, world_2_camera)\n",
    "\n",
    "        labels.append([point_on_floor[0], point_on_floor[1], bb.extent.y*2, bb.extent.z*2, bb.extent.x*2])\n",
    "        #cv2.circle(img, (int(point_on_floor[0]), int(point_on_floor[1])), radius=3, color=(0, 255, 0), thickness=3)\n",
    "\n",
    "    if len(labels) == 0:\n",
    "        continue\n",
    "    \n",
    "    # Uncomment and change path to make your dataset\n",
    "    #cv2.imwrite(f'/home/antoine/Documents/highway/carla_dataset_2/images/image_{idx:04d}.png', img)\n",
    "    df = pd.DataFrame(np.array(labels), columns = ['x','y','w', 'h', 'l'])\n",
    "    #df.to_csv(f'/home/antoine/Documents/highway/carla_dataset_2/labels/image_{idx:04d}.txt', index=False)\n",
    "    cv2.imshow('ImageWindowName',img)\n",
    "    if cv2.waitKey(1) == ord('q'):\n",
    "        break\n",
    "        \n",
    "    idx += 1\n",
    "cv2.destroyAllWindows()"
   ]
  },
  {
   "cell_type": "code",
   "execution_count": 10,
   "id": "a91c63b9",
   "metadata": {},
   "outputs": [
    {
     "data": {
      "text/plain": [
       "array([[ -0.00000004,   0.88781542,  -0.46019977,  83.81509399],\n",
       "       [ -1.        ,  -0.00000004,  -0.        , 199.5       ],\n",
       "       [ -0.00000002,   0.46019977,   0.88781542,  33.87155151],\n",
       "       [  0.        ,   0.        ,   0.        ,   1.        ]])"
      ]
     },
     "execution_count": 10,
     "metadata": {},
     "output_type": "execute_result"
    }
   ],
   "source": [
    "np.set_printoptions(suppress=True)\n",
    "world_2_camera"
   ]
  },
  {
   "cell_type": "code",
   "execution_count": 11,
   "id": "d2a7d2ad",
   "metadata": {
    "scrolled": false
   },
   "outputs": [
    {
     "data": {
      "text/plain": [
       "array([[770.19972518,   0.        , 640.        ],\n",
       "       [  0.        , 770.19972518, 360.        ],\n",
       "       [  0.        ,   0.        ,   1.        ]])"
      ]
     },
     "execution_count": 11,
     "metadata": {},
     "output_type": "execute_result"
    }
   ],
   "source": [
    "K"
   ]
  }
 ],
 "metadata": {
  "kernelspec": {
   "display_name": "python3.8",
   "language": "python",
   "name": "python3.8"
  },
  "language_info": {
   "codemirror_mode": {
    "name": "ipython",
    "version": 3
   },
   "file_extension": ".py",
   "mimetype": "text/x-python",
   "name": "python",
   "nbconvert_exporter": "python",
   "pygments_lexer": "ipython3",
   "version": "3.8.16"
  }
 },
 "nbformat": 4,
 "nbformat_minor": 5
}
